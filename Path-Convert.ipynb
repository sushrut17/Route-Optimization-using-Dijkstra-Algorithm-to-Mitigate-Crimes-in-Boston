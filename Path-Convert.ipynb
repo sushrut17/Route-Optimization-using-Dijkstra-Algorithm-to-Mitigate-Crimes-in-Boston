{
 "cells": [
  {
   "cell_type": "markdown",
   "metadata": {},
   "source": [
    "# Starting Point: #155 \n",
    "# End Point: #1877"
   ]
  },
  {
   "cell_type": "code",
   "execution_count": 18,
   "metadata": {},
   "outputs": [],
   "source": [
    "#!pip install geopandas\n",
    "import geopandas as gpd\n",
    "import pandas as pd\n",
    "import numpy as np"
   ]
  },
  {
   "cell_type": "code",
   "execution_count": 25,
   "metadata": {},
   "outputs": [
    {
     "data": {
      "text/html": [
       "<div>\n",
       "<style scoped>\n",
       "    .dataframe tbody tr th:only-of-type {\n",
       "        vertical-align: middle;\n",
       "    }\n",
       "\n",
       "    .dataframe tbody tr th {\n",
       "        vertical-align: top;\n",
       "    }\n",
       "\n",
       "    .dataframe thead th {\n",
       "        text-align: right;\n",
       "    }\n",
       "</style>\n",
       "<table border=\"1\" class=\"dataframe\">\n",
       "  <thead>\n",
       "    <tr style=\"text-align: right;\">\n",
       "      <th></th>\n",
       "      <th>lat</th>\n",
       "      <th>long</th>\n",
       "    </tr>\n",
       "  </thead>\n",
       "  <tbody>\n",
       "    <tr>\n",
       "      <th>0</th>\n",
       "      <td>42.306212</td>\n",
       "      <td>-71.136502</td>\n",
       "    </tr>\n",
       "    <tr>\n",
       "      <th>1</th>\n",
       "      <td>42.309115</td>\n",
       "      <td>-71.134452</td>\n",
       "    </tr>\n",
       "    <tr>\n",
       "      <th>2</th>\n",
       "      <td>42.311784</td>\n",
       "      <td>-71.132797</td>\n",
       "    </tr>\n",
       "    <tr>\n",
       "      <th>3</th>\n",
       "      <td>42.313186</td>\n",
       "      <td>-71.131863</td>\n",
       "    </tr>\n",
       "    <tr>\n",
       "      <th>4</th>\n",
       "      <td>42.314572</td>\n",
       "      <td>-71.130608</td>\n",
       "    </tr>\n",
       "  </tbody>\n",
       "</table>\n",
       "</div>"
      ],
      "text/plain": [
       "         lat       long\n",
       "0  42.306212 -71.136502\n",
       "1  42.309115 -71.134452\n",
       "2  42.311784 -71.132797\n",
       "3  42.313186 -71.131863\n",
       "4  42.314572 -71.130608"
      ]
     },
     "execution_count": 25,
     "metadata": {},
     "output_type": "execute_result"
    }
   ],
   "source": [
    "safe = 'crimes-in-boston/boston_safe_lat&long_filtered.csv'\n",
    "safe = pd.read_csv(safe)\n",
    "df = pd.DataFrame(safe)\n",
    "df = df[['lat','long']]\n",
    "df.head()"
   ]
  },
  {
   "cell_type": "code",
   "execution_count": 24,
   "metadata": {},
   "outputs": [
    {
     "name": "stdout",
     "output_type": "stream",
     "text": [
      "<class 'pandas.core.frame.DataFrame'>\n",
      "RangeIndex: 19582 entries, 0 to 19581\n",
      "Data columns (total 2 columns):\n",
      "lat     19582 non-null float64\n",
      "long    19582 non-null float64\n",
      "dtypes: float64(2)\n",
      "memory usage: 306.1 KB\n"
     ]
    }
   ],
   "source": [
    "df.info()"
   ]
  },
  {
   "cell_type": "code",
   "execution_count": 20,
   "metadata": {},
   "outputs": [],
   "source": [
    "path = ['1312', '505', '66', '1820', '606', '1357', '90', '402', '382']"
   ]
  },
  {
   "cell_type": "code",
   "execution_count": 21,
   "metadata": {},
   "outputs": [
    {
     "data": {
      "text/plain": [
       "[1312, 505, 66, 1820, 606, 1357, 90, 402, 382]"
      ]
     },
     "execution_count": 21,
     "metadata": {},
     "output_type": "execute_result"
    }
   ],
   "source": [
    "path=[int(i) for i in path]\n",
    "path"
   ]
  },
  {
   "cell_type": "code",
   "execution_count": 22,
   "metadata": {},
   "outputs": [
    {
     "data": {
      "text/plain": [
       "[42.38643056530298,\n",
       " 42.393011238351434,\n",
       " 42.34175729456503,\n",
       " 42.381457993797284,\n",
       " 42.3927242766248,\n",
       " 42.385210387095434,\n",
       " 42.36825402233457,\n",
       " 42.36849596275748,\n",
       " 42.36844714773842]"
      ]
     },
     "execution_count": 22,
     "metadata": {},
     "output_type": "execute_result"
    }
   ],
   "source": [
    "lat1=[df.iloc[i]['lat'] for i in path]\n",
    "long1=[df.iloc[i]['long'] for i in path]\n",
    "lat1"
   ]
  },
  {
   "cell_type": "code",
   "execution_count": 23,
   "metadata": {},
   "outputs": [
    {
     "data": {
      "text/plain": [
       "[-70.99315531353706,\n",
       " -70.99429754992094,\n",
       " -71.10877239963554,\n",
       " -70.99621429795279,\n",
       " -70.99450048895244,\n",
       " -70.99511689209332,\n",
       " -71.05172552488584,\n",
       " -71.0576571951747,\n",
       " -71.0576645672551]"
      ]
     },
     "execution_count": 23,
     "metadata": {},
     "output_type": "execute_result"
    }
   ],
   "source": [
    "long1"
   ]
  },
  {
   "cell_type": "code",
   "execution_count": 30,
   "metadata": {},
   "outputs": [
    {
     "name": "stdout",
     "output_type": "stream",
     "text": [
      "Requirement already satisfied: gmplot in /Users/shujiangtan/opt/anaconda3/lib/python3.7/site-packages (1.2.0)\n",
      "Requirement already satisfied: requests in /Users/shujiangtan/opt/anaconda3/lib/python3.7/site-packages (from gmplot) (2.22.0)\n",
      "Requirement already satisfied: urllib3!=1.25.0,!=1.25.1,<1.26,>=1.21.1 in /Users/shujiangtan/opt/anaconda3/lib/python3.7/site-packages (from requests->gmplot) (1.24.2)\n",
      "Requirement already satisfied: certifi>=2017.4.17 in /Users/shujiangtan/opt/anaconda3/lib/python3.7/site-packages (from requests->gmplot) (2019.9.11)\n",
      "Requirement already satisfied: chardet<3.1.0,>=3.0.2 in /Users/shujiangtan/opt/anaconda3/lib/python3.7/site-packages (from requests->gmplot) (3.0.4)\n",
      "Requirement already satisfied: idna<2.9,>=2.5 in /Users/shujiangtan/opt/anaconda3/lib/python3.7/site-packages (from requests->gmplot) (2.8)\n"
     ]
    }
   ],
   "source": [
    "!pip install gmplot\n"
   ]
  },
  {
   "cell_type": "code",
   "execution_count": null,
   "metadata": {},
   "outputs": [],
   "source": [
    "import gmplot \n",
    "  \n",
    "latitude_list = [42.38643056530298,\n",
    " 42.393011238351434,\n",
    " 42.34175729456503,\n",
    " 42.381457993797284,\n",
    " 42.3927242766248,\n",
    " 42.385210387095434,\n",
    " 42.36825402233457,\n",
    " 42.36849596275748,\n",
    " 42.36844714773842]\n",
    "longitude_list = [-70.99315531353706,\n",
    " -70.99429754992094,\n",
    " -71.10877239963554,\n",
    " -70.99621429795279,\n",
    " -70.99450048895244,\n",
    " -70.99511689209332,\n",
    " -71.05172552488584,\n",
    " -71.0576571951747,\n",
    " -71.0576645672551]\n",
    "  \n",
    "gmap3 = gmplot.GoogleMapPlotter(42.371251, \n",
    "                                -71.039785, 13) \n",
    "  \n",
    "# scatter method of map object  \n",
    "# scatter points on the google map \n",
    "gmap3.scatter( latitude_list, longitude_list, '# FF0000', \n",
    "                              size = 40, marker = False ) \n",
    "  \n",
    "# Plot method Draw a line in \n",
    "# between given coordinates \n",
    "gmap3.plot(latitude_list, longitude_list,  \n",
    "           'cornflowerblue', edge_width = 2.5) \n",
    "  \n",
    "gmap3.draw('map13.html') "
   ]
  }
 ],
 "metadata": {
  "kernelspec": {
   "display_name": "Python 3",
   "language": "python",
   "name": "python3"
  },
  "language_info": {
   "codemirror_mode": {
    "name": "ipython",
    "version": 3
   },
   "file_extension": ".py",
   "mimetype": "text/x-python",
   "name": "python",
   "nbconvert_exporter": "python",
   "pygments_lexer": "ipython3",
   "version": "3.7.4"
  }
 },
 "nbformat": 4,
 "nbformat_minor": 2
}
