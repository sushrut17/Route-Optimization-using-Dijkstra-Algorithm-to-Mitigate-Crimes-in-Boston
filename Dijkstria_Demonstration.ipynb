{
 "cells": [
  {
   "cell_type": "code",
   "execution_count": 0,
   "metadata": {
    "colab": {},
    "colab_type": "code",
    "id": "HfZn31pISLKy"
   },
   "outputs": [],
   "source": [
    "#Graph Generation and Dijkstria\n",
    "#import geopandas as gpd\n",
    "import pandas as pd\n",
    "import re\n",
    "%matplotlib inline\n",
    "import folium\n",
    "from folium.plugins import MarkerCluster\n",
    "import numpy as np\n",
    "import random"
   ]
  },
  {
   "cell_type": "code",
   "execution_count": 0,
   "metadata": {
    "colab": {},
    "colab_type": "code",
    "id": "dafwKlXlvj_Z"
   },
   "outputs": [],
   "source": [
    "result = pd.read_csv('boston_safe_lat&long_filtered.csv').drop(['Unnamed: 0'], axis = 1)"
   ]
  },
  {
   "cell_type": "code",
   "execution_count": 3,
   "metadata": {
    "colab": {
     "base_uri": "https://localhost:8080/",
     "height": 197
    },
    "colab_type": "code",
    "id": "4EUlBA7UOW7I",
    "outputId": "8c05e63f-3e8d-4c09-efa8-0d5da13dbd95"
   },
   "outputs": [
    {
     "data": {
      "text/html": [
       "<div>\n",
       "<style scoped>\n",
       "    .dataframe tbody tr th:only-of-type {\n",
       "        vertical-align: middle;\n",
       "    }\n",
       "\n",
       "    .dataframe tbody tr th {\n",
       "        vertical-align: top;\n",
       "    }\n",
       "\n",
       "    .dataframe thead th {\n",
       "        text-align: right;\n",
       "    }\n",
       "</style>\n",
       "<table border=\"1\" class=\"dataframe\">\n",
       "  <thead>\n",
       "    <tr style=\"text-align: right;\">\n",
       "      <th></th>\n",
       "      <th>lat</th>\n",
       "      <th>long</th>\n",
       "    </tr>\n",
       "  </thead>\n",
       "  <tbody>\n",
       "    <tr>\n",
       "      <th>0</th>\n",
       "      <td>42.306212</td>\n",
       "      <td>-71.136502</td>\n",
       "    </tr>\n",
       "    <tr>\n",
       "      <th>1</th>\n",
       "      <td>42.309115</td>\n",
       "      <td>-71.134452</td>\n",
       "    </tr>\n",
       "    <tr>\n",
       "      <th>2</th>\n",
       "      <td>42.311784</td>\n",
       "      <td>-71.132797</td>\n",
       "    </tr>\n",
       "    <tr>\n",
       "      <th>3</th>\n",
       "      <td>42.313186</td>\n",
       "      <td>-71.131863</td>\n",
       "    </tr>\n",
       "    <tr>\n",
       "      <th>4</th>\n",
       "      <td>42.314572</td>\n",
       "      <td>-71.130608</td>\n",
       "    </tr>\n",
       "  </tbody>\n",
       "</table>\n",
       "</div>"
      ],
      "text/plain": [
       "         lat       long\n",
       "0  42.306212 -71.136502\n",
       "1  42.309115 -71.134452\n",
       "2  42.311784 -71.132797\n",
       "3  42.313186 -71.131863\n",
       "4  42.314572 -71.130608"
      ]
     },
     "execution_count": 3,
     "metadata": {
      "tags": []
     },
     "output_type": "execute_result"
    }
   ],
   "source": [
    "result.head()"
   ]
  },
  {
   "cell_type": "code",
   "execution_count": 0,
   "metadata": {
    "colab": {},
    "colab_type": "code",
    "id": "rrOcFBAnjoCJ"
   },
   "outputs": [],
   "source": []
  },
  {
   "cell_type": "code",
   "execution_count": 0,
   "metadata": {
    "colab": {},
    "colab_type": "code",
    "id": "yPhPKqX0PHop"
   },
   "outputs": [],
   "source": [
    "def haversine_np(lon1, lat1, lon2, lat2):\n",
    "    lon1, lat1, lon2, lat2 = map(np.radians, [lon1, lat1, lon2, lat2])\n",
    "    dlon = lon2 - lon1\n",
    "    dlat = lat2 - lat1\n",
    "\n",
    "    a = np.sin(dlat/2.0)**2 + np.cos(lat1) * np.cos(lat2) * np.sin(dlon/2.0)**2\n",
    "\n",
    "    c = 2 * np.arcsin(np.sqrt(a))\n",
    "    miles = 6367 * c/1.609\n",
    "    return miles"
   ]
  },
  {
   "cell_type": "code",
   "execution_count": 11,
   "metadata": {
    "colab": {
     "base_uri": "https://localhost:8080/",
     "height": 33
    },
    "colab_type": "code",
    "id": "toYAECIYjwpF",
    "outputId": "6793002d-f0de-4750-be9b-b42cfa1a390d"
   },
   "outputs": [
    {
     "data": {
      "text/plain": [
       "'2966'"
      ]
     },
     "execution_count": 11,
     "metadata": {
      "tags": []
     },
     "output_type": "execute_result"
    }
   ],
   "source": [
    "#Embassy Suites - 42.370535, -71.031580 (2966)\n",
    "c = dict()\n",
    "for i in range(result.shape[0]):\n",
    "    c[str(result.index[i])] = haversine_np(42.370535, -71.031580, result.iloc[i][0], result.iloc[i][1])\n",
    "cp = min(c, key=c.get)\n",
    "cpdist = c[str(cp)]\n",
    "cp"
   ]
  },
  {
   "cell_type": "code",
   "execution_count": 12,
   "metadata": {
    "colab": {
     "base_uri": "https://localhost:8080/",
     "height": 33
    },
    "colab_type": "code",
    "id": "24UAZUe_nhUg",
    "outputId": "1bb0e443-e827-4c6f-8d01-6614eda8d820"
   },
   "outputs": [
    {
     "data": {
      "text/plain": [
       "'2999'"
      ]
     },
     "execution_count": 12,
     "metadata": {
      "tags": []
     },
     "output_type": "execute_result"
    }
   ],
   "source": [
    "#Maverick - 42.370040, -71.037984 (2999)\n",
    "c = dict()\n",
    "for i in range(result.shape[0]):\n",
    "    c[str(result.index[i])] = haversine_np(42.370040, -71.037984, result.iloc[i][0], result.iloc[i][1])\n",
    "cp = min(c, key=c.get)\n",
    "cpdist = c[str(cp)]\n",
    "cp"
   ]
  },
  {
   "cell_type": "code",
   "execution_count": 13,
   "metadata": {
    "colab": {
     "base_uri": "https://localhost:8080/",
     "height": 33
    },
    "colab_type": "code",
    "id": "a_eIDjTDnhSM",
    "outputId": "4fde50d4-e41e-409c-81c9-36971fff400c"
   },
   "outputs": [
    {
     "name": "stdout",
     "output_type": "stream",
     "text": [
      "4407\n"
     ]
    }
   ],
   "source": [
    "#Bremen Porter - 42.372441, -71.034753 (4407)\n",
    "c = dict()\n",
    "for i in range(result.shape[0]):\n",
    "    c[str(result.index[i])] = haversine_np(42.372441, -71.034753, result.iloc[i][0], result.iloc[i][1])\n",
    "cp = min(c, key=c.get)\n",
    "cpdist = c[str(cp)]\n",
    "print(cp)"
   ]
  },
  {
   "cell_type": "code",
   "execution_count": 14,
   "metadata": {
    "colab": {
     "base_uri": "https://localhost:8080/",
     "height": 33
    },
    "colab_type": "code",
    "id": "lHoLBGcDnhPw",
    "outputId": "3ee8bc71-9b86-4a05-9e70-79567481c36c"
   },
   "outputs": [
    {
     "name": "stdout",
     "output_type": "stream",
     "text": [
      "2969\n"
     ]
    }
   ],
   "source": [
    "#Cottage Maverick - 42.368331, -71.034753 (2969)\n",
    "c = dict()\n",
    "for i in range(result.shape[0]):\n",
    "    c[str(result.index[i])] = haversine_np(42.368331, -71.034753, result.iloc[i][0], result.iloc[i][1])\n",
    "cp = min(c, key=c.get)\n",
    "cpdist = c[str(cp)]\n",
    "print(cp)"
   ]
  },
  {
   "cell_type": "code",
   "execution_count": 15,
   "metadata": {
    "colab": {
     "base_uri": "https://localhost:8080/",
     "height": 33
    },
    "colab_type": "code",
    "id": "a_u-zscxnhN3",
    "outputId": "c7bef5f7-f54f-43f1-efc8-f2276dbb4bea"
   },
   "outputs": [
    {
     "name": "stdout",
     "output_type": "stream",
     "text": [
      "4210\n"
     ]
    }
   ],
   "source": [
    "#Santarpio Pizzeria - 42.367117, -71.035709 (4210)\n",
    "c = dict()\n",
    "for i in range(result.shape[0]):\n",
    "    c[str(result.index[i])] = haversine_np(42.372823, -71.035345, result.iloc[i][0], result.iloc[i][1])\n",
    "cp = min(c, key=c.get)\n",
    "cpdist = c[str(cp)]\n",
    "print(cp)"
   ]
  },
  {
   "cell_type": "code",
   "execution_count": 16,
   "metadata": {
    "colab": {
     "base_uri": "https://localhost:8080/",
     "height": 33
    },
    "colab_type": "code",
    "id": "T4VEiDtLnhLD",
    "outputId": "3c469ca8-0e31-4c22-a08e-67a7150764d7"
   },
   "outputs": [
    {
     "name": "stdout",
     "output_type": "stream",
     "text": [
      "2997\n"
     ]
    }
   ],
   "source": [
    "#Taco Mexo - 42.369998, -71.038767 (2997)\n",
    "c = dict()\n",
    "for i in range(result.shape[0]):\n",
    "    c[str(result.index[i])] = haversine_np(42.369998, -71.038767, result.iloc[i][0], result.iloc[i][1])\n",
    "cp = min(c, key=c.get)\n",
    "cpdist = c[str(cp)]\n",
    "print(cp)"
   ]
  },
  {
   "cell_type": "code",
   "execution_count": 0,
   "metadata": {
    "colab": {},
    "colab_type": "code",
    "id": "r10L0pKSnOvI"
   },
   "outputs": [],
   "source": [
    "graph_list = [tuple(('Embassy Suites', 'Bremen Porter', haversine_np(42.370535, -71.031580, 42.372441, -71.034753 ))),\n",
    "      tuple(('Embassy Suites', 'Santarpio Pizza', haversine_np(42.370535, -71.031580, 42.367117, -71.035709 ))),\n",
    "      tuple(('Embassy Suites', 'Cottage Maverick', haversine_np(42.370535, -71.031580, 42.368331, -71.034753 ))),\n",
    "      tuple(('Bremen Porter', 'Maverick Cafe', haversine_np(42.372441, -71.034753, 42.370040, -71.037984 ))),\n",
    "      tuple(('Santarpio Pizza', 'Taco Mex', haversine_np(42.367117, -71.035709, 42.369998, -71.038767 ))),\n",
    "      tuple(('Taco Mex', 'Maverick Cafe', haversine_np(42.369998, -71.038767, 42.370040, -71.037984 ))),\n",
    "      tuple(('Cottage Maverick', 'Maverick Cafe', haversine_np(42.368331, -71.034753, 42.370040, -71.037984 )))]"
   ]
  },
  {
   "cell_type": "code",
   "execution_count": 18,
   "metadata": {
    "colab": {
     "base_uri": "https://localhost:8080/",
     "height": 133
    },
    "colab_type": "code",
    "id": "8LjkML3Ns0C-",
    "outputId": "d94cf2c8-ec12-4da1-a72f-0091f11922f9"
   },
   "outputs": [
    {
     "data": {
      "text/plain": [
       "[('Embassy Suites', 'Bremen Porter', 0.2232798672741459),\n",
       " ('Embassy Suites', 'Santarpio Pizza', 0.29530898103753117),\n",
       " ('Embassy Suites', 'Cottage Maverick', 0.22465763258142837),\n",
       " ('Bremen Porter', 'Maverick Cafe', 0.22956248279508543),\n",
       " ('Santarpio Pizza', 'Taco Mex', 0.22087556293653007),\n",
       " ('Taco Mex', 'Maverick Cafe', 0.05408587892833907),\n",
       " ('Cottage Maverick', 'Maverick Cafe', 0.2264205815462706)]"
      ]
     },
     "execution_count": 18,
     "metadata": {
      "tags": []
     },
     "output_type": "execute_result"
    }
   ],
   "source": [
    "graph_list"
   ]
  },
  {
   "cell_type": "code",
   "execution_count": 0,
   "metadata": {
    "colab": {},
    "colab_type": "code",
    "id": "AihaUerXPeCL"
   },
   "outputs": [],
   "source": [
    "#Final Dijkstria\n",
    "\n",
    "from collections import deque, namedtuple\n",
    "\n",
    "\n",
    "# we'll use infinity as a default distance to nodes.\n",
    "inf = float('inf')\n",
    "Edge = namedtuple('Edge', 'start, end, cost')\n",
    "\n",
    "\n",
    "def make_edge(start, end, cost=1):\n",
    "  return Edge(start, end, cost)\n",
    "\n",
    "\n",
    "class Graph:\n",
    "    def __init__(self, edges):\n",
    "        # let's check that the data is right\n",
    "        wrong_edges = [i for i in edges if len(i) not in [2, 3]]\n",
    "        if wrong_edges:\n",
    "            raise ValueError('Wrong edges data: {}'.format(wrong_edges))\n",
    "\n",
    "        self.edges = [make_edge(*edge) for edge in edges]\n",
    "\n",
    "    @property\n",
    "    def vertices(self):\n",
    "        return set(\n",
    "            sum(\n",
    "                ([edge.start, edge.end] for edge in self.edges), []\n",
    "            )\n",
    "        )\n",
    "\n",
    "    def get_node_pairs(self, n1, n2, both_ends=True):\n",
    "        if both_ends:\n",
    "            node_pairs = [[n1, n2], [n2, n1]]\n",
    "        else:\n",
    "            node_pairs = [[n1, n2]]\n",
    "        return node_pairs\n",
    "\n",
    "    def remove_edge(self, n1, n2, both_ends=True):\n",
    "        node_pairs = self.get_node_pairs(n1, n2, both_ends)\n",
    "        edges = self.edges[:]\n",
    "        for edge in edges:\n",
    "            if [edge.start, edge.end] in node_pairs:\n",
    "                self.edges.remove(edge)\n",
    "\n",
    "    def add_edge(self, n1, n2, cost=1, both_ends=True):\n",
    "        node_pairs = self.get_node_pairs(n1, n2, both_ends)\n",
    "        for edge in self.edges:\n",
    "            if [edge.start, edge.end] in node_pairs:\n",
    "                return ValueError('Edge {} {} already exists'.format(n1, n2))\n",
    "\n",
    "        self.edges.append(Edge(start=n1, end=n2, cost=cost))\n",
    "        if both_ends:\n",
    "            self.edges.append(Edge(start=n2, end=n1, cost=cost))\n",
    "\n",
    "    @property\n",
    "    def neighbours(self):\n",
    "        neighbours = {vertex: set() for vertex in self.vertices}\n",
    "        for edge in self.edges:\n",
    "            neighbours[edge.start].add((edge.end, edge.cost))\n",
    "\n",
    "        return neighbours\n",
    "\n",
    "    def dijkstra(self, source, dest):\n",
    "        assert source in self.vertices, 'Such source node doesn\\'t exist'\n",
    "        distances = {vertex: inf for vertex in self.vertices}\n",
    "        previous_vertices = {\n",
    "            vertex: None for vertex in self.vertices\n",
    "        }\n",
    "        distances[source] = 0\n",
    "        vertices = self.vertices.copy()\n",
    "\n",
    "        while vertices:\n",
    "            current_vertex = min(\n",
    "                vertices, key=lambda vertex: distances[vertex])\n",
    "            vertices.remove(current_vertex)\n",
    "            if distances[current_vertex] == inf:\n",
    "                break\n",
    "            for neighbour, cost in self.neighbours[current_vertex]:\n",
    "                alternative_route = distances[current_vertex] + cost\n",
    "                if alternative_route < distances[neighbour]:\n",
    "                    distances[neighbour] = alternative_route\n",
    "                    previous_vertices[neighbour] = current_vertex\n",
    "\n",
    "        path, current_vertex = deque(), dest\n",
    "        while previous_vertices[current_vertex] is not None:\n",
    "            path.appendleft(current_vertex)\n",
    "            current_vertex = previous_vertices[current_vertex]\n",
    "        if path:\n",
    "            path.appendleft(current_vertex)\n",
    "        return path\n",
    "\n"
   ]
  },
  {
   "cell_type": "code",
   "execution_count": 25,
   "metadata": {
    "colab": {
     "base_uri": "https://localhost:8080/",
     "height": 33
    },
    "colab_type": "code",
    "id": "tSMksaNys0IO",
    "outputId": "64d5e126-7a4c-4284-ed5e-cca316f641ce"
   },
   "outputs": [
    {
     "name": "stdout",
     "output_type": "stream",
     "text": [
      "deque(['Embassy Suites', 'Cottage Maverick', 'Maverick Cafe'])\n"
     ]
    }
   ],
   "source": [
    "graph = Graph(graph_list)\n",
    "print(graph.dijkstra(\"Embassy Suites\", \"Maverick Cafe\"))"
   ]
  },
  {
   "cell_type": "code",
   "execution_count": 0,
   "metadata": {
    "colab": {},
    "colab_type": "code",
    "id": "VVhIMOWLQmBA"
   },
   "outputs": [],
   "source": [
    "####### failed attempts at graph generation from here on\n",
    "####### Just for reference\n",
    "####### DO NOT USE"
   ]
  },
  {
   "cell_type": "markdown",
   "metadata": {
    "colab_type": "text",
    "id": "xQp0aMv4RR8O"
   },
   "source": []
  },
  {
   "cell_type": "code",
   "execution_count": 0,
   "metadata": {
    "colab": {},
    "colab_type": "code",
    "id": "94HtKaMr05Bx"
   },
   "outputs": [],
   "source": [
    "start = sample.iloc[[0]]\n",
    "others = sample.drop(start.index[0])\n",
    "graph_list = []\n",
    "\n",
    "dist_start_others = dict()\n",
    "for i in range(others.shape[0]):\n",
    "    dist_start_others[str(others.index[i])] = haversine_np(start.iloc[0][0], start.iloc[0][1], others.iloc[i][0], others.iloc[i][1])\n",
    "\n",
    "p11 = min(dist_start_others, key=dist_start_others.get)\n",
    "p11dist = dist_start_others[str(p11)]\n",
    "layer_1 = dict()\n",
    "layer_1[int(p11)] = p11dist\n",
    "\n",
    "del dist_start_others[str(p11)]\n",
    "\n",
    "p12 = min(dist_start_others, key=dist_start_others.get)\n",
    "p12dist = dist_start_others[str(p12)]\n",
    "layer_1[int(p12)] = p12dist\n",
    "\n",
    "graph_list.append(tuple((str(start.index[0]), p11,  p11dist )))\n",
    "graph_list.append(tuple((str(start.index[0]), p12,  p12dist )))\n",
    "\n",
    "graph_list.append(tuple(('9924', '10000', 0.5)))\n",
    "graph_list.append(tuple(('9923', '10000', 0.5)))\n"
   ]
  },
  {
   "cell_type": "code",
   "execution_count": 0,
   "metadata": {
    "colab": {},
    "colab_type": "code",
    "id": "vILQF6sz07-c"
   },
   "outputs": [],
   "source": [
    "dist_dict = dict()\n",
    "graphlist2 = []\n",
    "start = sample.iloc[[0]]\n",
    "#ct = 1\n",
    "others = sample.drop(start.index[0])\n",
    "\n",
    "for i in range(others):\n",
    "  \n",
    "\n",
    "\n",
    "others = sample.iloc[random.sample(list(range(sample.shape[0])), k = 3)]\n",
    "for j in range(others.shape[0]):\n",
    "  to_compare = others.iloc[[j]]\n",
    "  dist = haversine_np(start.iloc[0][0], start.iloc[0][1], to_compare.iloc[0][0], to_compare.iloc[0][1])\n",
    "  graphlist2.append(tuple((str(start.index[0]), str(to_compare.index[0]),  dist )))\n",
    "\n",
    "for k in range(others.shape[0]):\n",
    "  start = others.iloc[[k]]\n",
    "\n"
   ]
  }
 ],
 "metadata": {
  "colab": {
   "collapsed_sections": [],
   "name": "Dijkstria Demonstration",
   "provenance": []
  },
  "kernelspec": {
   "display_name": "Python 3",
   "language": "python",
   "name": "python3"
  },
  "language_info": {
   "codemirror_mode": {
    "name": "ipython",
    "version": 3
   },
   "file_extension": ".py",
   "mimetype": "text/x-python",
   "name": "python",
   "nbconvert_exporter": "python",
   "pygments_lexer": "ipython3",
   "version": "3.7.4"
  }
 },
 "nbformat": 4,
 "nbformat_minor": 1
}
