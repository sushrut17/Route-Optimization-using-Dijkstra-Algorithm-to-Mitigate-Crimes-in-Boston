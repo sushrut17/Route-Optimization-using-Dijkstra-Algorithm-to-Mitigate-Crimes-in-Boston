{
  "nbformat": 4,
  "nbformat_minor": 0,
  "metadata": {
    "colab": {
      "name": "Graph Generation and Dijkstria.ipynb",
      "provenance": [],
      "collapsed_sections": []
    },
    "kernelspec": {
      "name": "python3",
      "display_name": "Python 3"
    }
  },
  "cells": [
    {
      "cell_type": "code",
      "metadata": {
        "id": "HfZn31pISLKy",
        "colab_type": "code",
        "colab": {}
      },
      "source": [
        "#Graph Genration and Dijkstria\n",
        "#import geopandas as gpd\n",
        "import pandas as pd\n",
        "import re\n",
        "%matplotlib inline\n",
        "import folium\n",
        "from folium.plugins import MarkerCluster\n",
        "import numpy as np"
      ],
      "execution_count": 0,
      "outputs": []
    },
    {
      "cell_type": "code",
      "metadata": {
        "id": "MLaf1B8UkRPa",
        "colab_type": "code",
        "colab": {}
      },
      "source": [
        ""
      ],
      "execution_count": 0,
      "outputs": []
    },
    {
      "cell_type": "code",
      "metadata": {
        "id": "dafwKlXlvj_Z",
        "colab_type": "code",
        "colab": {}
      },
      "source": [
        "result = pd.read_csv('boston_safe_lat&long_filtered.csv')\n"
      ],
      "execution_count": 0,
      "outputs": []
    },
    {
      "cell_type": "code",
      "metadata": {
        "id": "nvlQpAiLSfed",
        "colab_type": "code",
        "colab": {}
      },
      "source": [
        "#take 10%\n",
        "sample = result.sample(frac=0.1, replace=False, random_state=1).reset_index().drop(['index'], axis = 1)"
      ],
      "execution_count": 0,
      "outputs": []
    },
    {
      "cell_type": "code",
      "metadata": {
        "id": "SOEIviEAvj8p",
        "colab_type": "code",
        "outputId": "cf73d9b5-ef34-4f81-cdb2-861a75b8d8e0",
        "colab": {
          "base_uri": "https://localhost:8080/",
          "height": 197
        }
      },
      "source": [
        "sample.head()"
      ],
      "execution_count": 32,
      "outputs": [
        {
          "output_type": "execute_result",
          "data": {
            "text/html": [
              "<div>\n",
              "<style scoped>\n",
              "    .dataframe tbody tr th:only-of-type {\n",
              "        vertical-align: middle;\n",
              "    }\n",
              "\n",
              "    .dataframe tbody tr th {\n",
              "        vertical-align: top;\n",
              "    }\n",
              "\n",
              "    .dataframe thead th {\n",
              "        text-align: right;\n",
              "    }\n",
              "</style>\n",
              "<table border=\"1\" class=\"dataframe\">\n",
              "  <thead>\n",
              "    <tr style=\"text-align: right;\">\n",
              "      <th></th>\n",
              "      <th>Unnamed: 0</th>\n",
              "      <th>lat</th>\n",
              "      <th>long</th>\n",
              "    </tr>\n",
              "  </thead>\n",
              "  <tbody>\n",
              "    <tr>\n",
              "      <th>0</th>\n",
              "      <td>8680</td>\n",
              "      <td>42.371892</td>\n",
              "      <td>-71.049632</td>\n",
              "    </tr>\n",
              "    <tr>\n",
              "      <th>1</th>\n",
              "      <td>6585</td>\n",
              "      <td>42.383380</td>\n",
              "      <td>-71.029959</td>\n",
              "    </tr>\n",
              "    <tr>\n",
              "      <th>2</th>\n",
              "      <td>4</td>\n",
              "      <td>42.314572</td>\n",
              "      <td>-71.130608</td>\n",
              "    </tr>\n",
              "    <tr>\n",
              "      <th>3</th>\n",
              "      <td>11730</td>\n",
              "      <td>42.359487</td>\n",
              "      <td>-71.167483</td>\n",
              "    </tr>\n",
              "    <tr>\n",
              "      <th>4</th>\n",
              "      <td>13455</td>\n",
              "      <td>42.259846</td>\n",
              "      <td>-71.103666</td>\n",
              "    </tr>\n",
              "  </tbody>\n",
              "</table>\n",
              "</div>"
            ],
            "text/plain": [
              "   Unnamed: 0        lat       long\n",
              "0        8680  42.371892 -71.049632\n",
              "1        6585  42.383380 -71.029959\n",
              "2           4  42.314572 -71.130608\n",
              "3       11730  42.359487 -71.167483\n",
              "4       13455  42.259846 -71.103666"
            ]
          },
          "metadata": {
            "tags": []
          },
          "execution_count": 32
        }
      ]
    },
    {
      "cell_type": "code",
      "metadata": {
        "id": "WpAMLeek-FS5",
        "colab_type": "code",
        "outputId": "07d7b0ed-063b-48b4-8d80-66b7362174dd",
        "colab": {
          "base_uri": "https://localhost:8080/",
          "height": 33
        }
      },
      "source": [
        "sample.shape"
      ],
      "execution_count": 33,
      "outputs": [
        {
          "output_type": "execute_result",
          "data": {
            "text/plain": [
              "(1958, 3)"
            ]
          },
          "metadata": {
            "tags": []
          },
          "execution_count": 33
        }
      ]
    },
    {
      "cell_type": "code",
      "metadata": {
        "id": "jTiNSftljGjM",
        "colab_type": "code",
        "colab": {}
      },
      "source": [
        "import random"
      ],
      "execution_count": 0,
      "outputs": []
    },
    {
      "cell_type": "markdown",
      "metadata": {
        "id": "xQp0aMv4RR8O",
        "colab_type": "text"
      },
      "source": [
        ""
      ]
    },
    {
      "cell_type": "code",
      "metadata": {
        "id": "89CTTBDQshS7",
        "colab_type": "code",
        "colab": {}
      },
      "source": [
        "#Final Dijkstria\n",
        "\n",
        "from collections import deque, namedtuple\n",
        "\n",
        "\n",
        "# we'll use infinity as a default distance to nodes.\n",
        "inf = float('inf')\n",
        "Edge = namedtuple('Edge', 'start, end, cost')\n",
        "\n",
        "\n",
        "def make_edge(start, end, cost=1):\n",
        "  return Edge(start, end, cost)\n",
        "\n",
        "\n",
        "class Graph:\n",
        "    def __init__(self, edges):\n",
        "        # let's check that the data is right\n",
        "        wrong_edges = [i for i in edges if len(i) not in [2, 3]]\n",
        "        if wrong_edges:\n",
        "            raise ValueError('Wrong edges data: {}'.format(wrong_edges))\n",
        "\n",
        "        self.edges = [make_edge(*edge) for edge in edges]\n",
        "\n",
        "    @property\n",
        "    def vertices(self):\n",
        "        return set(\n",
        "            sum(\n",
        "                ([edge.start, edge.end] for edge in self.edges), []\n",
        "            )\n",
        "        )\n",
        "\n",
        "    def get_node_pairs(self, n1, n2, both_ends=True):\n",
        "        if both_ends:\n",
        "            node_pairs = [[n1, n2], [n2, n1]]\n",
        "        else:\n",
        "            node_pairs = [[n1, n2]]\n",
        "        return node_pairs\n",
        "\n",
        "    def remove_edge(self, n1, n2, both_ends=True):\n",
        "        node_pairs = self.get_node_pairs(n1, n2, both_ends)\n",
        "        edges = self.edges[:]\n",
        "        for edge in edges:\n",
        "            if [edge.start, edge.end] in node_pairs:\n",
        "                self.edges.remove(edge)\n",
        "\n",
        "    def add_edge(self, n1, n2, cost=1, both_ends=True):\n",
        "        node_pairs = self.get_node_pairs(n1, n2, both_ends)\n",
        "        for edge in self.edges:\n",
        "            if [edge.start, edge.end] in node_pairs:\n",
        "                return ValueError('Edge {} {} already exists'.format(n1, n2))\n",
        "\n",
        "        self.edges.append(Edge(start=n1, end=n2, cost=cost))\n",
        "        if both_ends:\n",
        "            self.edges.append(Edge(start=n2, end=n1, cost=cost))\n",
        "\n",
        "    @property\n",
        "    def neighbours(self):\n",
        "        neighbours = {vertex: set() for vertex in self.vertices}\n",
        "        for edge in self.edges:\n",
        "            neighbours[edge.start].add((edge.end, edge.cost))\n",
        "\n",
        "        return neighbours\n",
        "\n",
        "    def dijkstra(self, source, dest):\n",
        "        assert source in self.vertices, 'Such source node doesn\\'t exist'\n",
        "        distances = {vertex: inf for vertex in self.vertices}\n",
        "        previous_vertices = {\n",
        "            vertex: None for vertex in self.vertices\n",
        "        }\n",
        "        distances[source] = 0\n",
        "        vertices = self.vertices.copy()\n",
        "\n",
        "        while vertices:\n",
        "            current_vertex = min(\n",
        "                vertices, key=lambda vertex: distances[vertex])\n",
        "            vertices.remove(current_vertex)\n",
        "            if distances[current_vertex] == inf:\n",
        "                break\n",
        "            for neighbour, cost in self.neighbours[current_vertex]:\n",
        "                alternative_route = distances[current_vertex] + cost\n",
        "                if alternative_route < distances[neighbour]:\n",
        "                    distances[neighbour] = alternative_route\n",
        "                    previous_vertices[neighbour] = current_vertex\n",
        "\n",
        "        path, current_vertex = deque(), dest\n",
        "        while previous_vertices[current_vertex] is not None:\n",
        "            path.appendleft(current_vertex)\n",
        "            current_vertex = previous_vertices[current_vertex]\n",
        "        if path:\n",
        "            path.appendleft(current_vertex)\n",
        "        return path\n",
        "\n"
      ],
      "execution_count": 0,
      "outputs": []
    },
    {
      "cell_type": "code",
      "metadata": {
        "id": "Hg0pKXEFsmUZ",
        "colab_type": "code",
        "outputId": "361c35d6-3705-4db8-a1f5-77b1ca2e5581",
        "colab": {
          "base_uri": "https://localhost:8080/",
          "height": 33
        }
      },
      "source": [
        "#sample numbers to see hoe dijkstria works\n",
        "graph = Graph([\n",
        "    (\"a\", \"b\", 7),  (\"a\", \"c\", 9),  (\"a\", \"f\", 14), (\"b\", \"c\", 10),\n",
        "    (\"b\", \"d\", 15), (\"c\", \"d\", 11), (\"c\", \"f\", 2),  (\"d\", \"e\", 6),\n",
        "    (\"e\", \"f\", 9)])\n",
        "\n",
        "print(graph.dijkstra(\"a\", \"e\"))"
      ],
      "execution_count": 36,
      "outputs": [
        {
          "output_type": "stream",
          "text": [
            "deque(['a', 'c', 'd', 'e'])\n"
          ],
          "name": "stdout"
        }
      ]
    },
    {
      "cell_type": "code",
      "metadata": {
        "id": "LhENboDlssE6",
        "colab_type": "code",
        "outputId": "bd909cc9-55a4-4e0b-c1c0-8113a0b85361",
        "colab": {
          "base_uri": "https://localhost:8080/",
          "height": 183
        }
      },
      "source": [
        "#GRAPH GENERATION\n",
        "from collections import Counter \n",
        "\n",
        "graph_list = []\n",
        "start = sample.iloc[[random.choice(sample.index)]]\n",
        "others = sample.drop(start.index[0])\n",
        "\n",
        "while len(graph_list) < 100:\n",
        "\n",
        "  dist_start_others = dict()\n",
        "  for i in range(others.shape[0]):\n",
        "      dist_start_others[str(others.index[i])] = haversine_np(start.iloc[0][0], start.iloc[0][1], others.iloc[i][0], others.iloc[i][1])\n",
        "      layer_1 = dict()\n",
        "      k = Counter(dist_start_others)\n",
        "      high = k.most_common(2)\n",
        "      for k in range(len(high)):\n",
        "        layer_1[high[k][0]] = high[k][1]\n",
        "\n",
        "  graph_list.append(tuple((str(start.index[0]), str(high[0][0]),  high[0][1] )))\n",
        "  graph_list.append(tuple((str(start.index[0]), str(high[1][0]),  high[1][1] )))\n",
        "\n",
        "  #Layer 11\n",
        "  to_drop = []\n",
        "  for j in range(len(list(layer_1.keys()))):\n",
        "    to_drop.append(int(list(layer_1.keys())[j]))\n",
        "  others_11 = others.drop(to_drop)\n",
        "  node_11 = sample.iloc[[high[0][0]]]\n",
        "  dist_11_2 = dict()\n",
        "  for i in range(others_11.shape[0]):\n",
        "      dist_11_2[str(others_11.index[i])] = haversine_np(node_11.iloc[0][0], node_11.iloc[0][1], others_11.iloc[i][0], others_11.iloc[i][1])\n",
        "      layer_2u = dict()\n",
        "      k = Counter(dist_11_2)\n",
        "      high_11 = k.most_common(2)\n",
        "      for k in range(len(high_11)):\n",
        "        dist_11_2[high_11[k][0]] = high_11[k][1]\n",
        "\n",
        "  graph_list.append(tuple((str(node_11.index[0]), str(high_11[0][0]),  high_11[0][1] )))\n",
        "  graph_list.append(tuple((str(node_11.index[0]), str(high_11[1][0]),  high_11[1][1] )))\n",
        "\n",
        "\n",
        "  #Layer 12\n",
        "  #to_drop = []\n",
        "  #for j in range(len(list(high_11.keys()))):\n",
        "  #  to_drop.append(int(list(high_11_2.keys())[j]))\n",
        "  #others_12 = others_11.drop(to_drop)\n",
        "  others_12 = others_11\n",
        "  node_12 = sample.iloc[[high[1][0]]]\n",
        "  dist_12_2 = dict()\n",
        "  for i in range(others_12.shape[0]):\n",
        "      dist_12_2[str(others_12.index[i])] = haversine_np(node_12.iloc[0][0], node_12.iloc[0][1], others_12.iloc[i][0], others_12.iloc[i][1])\n",
        "      layer_2l = dict()\n",
        "      k = Counter(dist_12_2)\n",
        "      high_12 = k.most_common(2)\n",
        "      for k in range(len(high_12)):\n",
        "        dist_12_2[high_12[k][0]] = high_12[k][1]\n",
        "\n",
        "  graph_list.append(tuple((str(node_12.index[0]), str(high_12[0][0]),  high_12[0][1] )))\n",
        "  graph_list.append(tuple((str(node_12.index[0]), str(high_12[1][0]),  high_12[1][1] )))\n",
        "\n",
        "\n",
        "  others2 = others_11.drop(list(np.unique([int(high_11[0][0]), int(high_11[1][0]) , int(high_12[0][0]) , int(high_12[1][0]) ])))\n",
        "\n",
        "  dist2 = dict()\n",
        "  for i in range(others2.shape[0]):\n",
        "    dist2[str(others2.index[i])] = haversine_np(sample.iloc[int(high_11[0][0])][0], sample.iloc[int(high_11[0][0])][1], others2.iloc[i][0], others2.iloc[i][1]) + haversine_np(sample.iloc[int(high_11[1][0])][0], sample.iloc[int(high_11[1][0])][1], others2.iloc[i][0], others2.iloc[i][1]) +  haversine_np(sample.iloc[int(high_12[0][0])][0], sample.iloc[int(high_12[0][0])][1], others2.iloc[i][0], others2.iloc[i][1]) +  haversine_np(sample.iloc[int(high_12[1][0])][0], sample.iloc[int(high_12[1][0])][1], others2.iloc[i][0], others2.iloc[i][1])\n",
        "\n",
        "  node3 = min(dist2, key=dist2.get)\n",
        "  dist3 = min(list(dist2.values()))\n",
        "  graph_list.append(tuple((high_11[0][0], node3, haversine_np(sample.iloc[int(high_11[0][0])][0], sample.iloc[int(high_11[0][0])][1], others2.loc[int(node3)][0], others2.loc[int(node3)][1])  )))\n",
        "  graph_list.append(tuple((high_11[1][0], node3, haversine_np(sample.iloc[int(high_11[1][0])][0], sample.iloc[int(high_11[1][0])][1], others2.loc[int(node3)][0], others2.loc[int(node3)][1])  )))\n",
        "  graph_list.append(tuple((high_12[0][0], node3, haversine_np(sample.iloc[int(high_12[0][0])][0], sample.iloc[int(high_12[0][0])][1], others2.loc[int(node3)][0], others2.loc[int(node3)][1])  )))\n",
        "  graph_list.append(tuple((high_12[1][0], node3, haversine_np(sample.iloc[int(high_12[1][0])][0], sample.iloc[int(high_12[1][0])][1], others2.loc[int(node3)][0], others2.loc[int(node3)][1])  )))\n",
        "\n",
        "  others3 = others2.drop(int(node3))\n",
        "\n",
        "  start = sample.iloc[[int(node3)]]\n",
        "  others = others3\n",
        "\n",
        "  print(len(graph_list))\n"
      ],
      "execution_count": 37,
      "outputs": [
        {
          "output_type": "stream",
          "text": [
            "10\n",
            "20\n",
            "30\n",
            "40\n",
            "50\n",
            "60\n",
            "70\n",
            "80\n",
            "90\n",
            "100\n"
          ],
          "name": "stdout"
        }
      ]
    },
    {
      "cell_type": "code",
      "metadata": {
        "id": "bffoTlDM4TyX",
        "colab_type": "code",
        "outputId": "0744af48-da81-42e8-e03d-fc9fa8841a30",
        "colab": {
          "base_uri": "https://localhost:8080/",
          "height": 1000
        }
      },
      "source": [
        "graph_list"
      ],
      "execution_count": 38,
      "outputs": [
        {
          "output_type": "execute_result",
          "data": {
            "text/plain": [
              "[('1791', '1496', 6585.711420517396),\n",
              " ('1791', '258', 6585.268385270796),\n",
              " ('1496', '1696', 6591.950005922558),\n",
              " ('1496', '1926', 6591.617280096686),\n",
              " ('258', '1926', 6591.174244961758),\n",
              " ('258', '1696', 6590.181445105518),\n",
              " ('1696', '1741', 0.5513356393225739),\n",
              " ('1926', '1741', 51.09492219554058),\n",
              " ('1926', '1741', 51.09492219554058),\n",
              " ('1696', '1741', 0.5513356393225739),\n",
              " ('1741', '630', 6590.820370643499),\n",
              " ('1741', '1328', 6588.744433442027),\n",
              " ('630', '680', 6589.187476700271),\n",
              " ('630', '1343', 6588.40527403693),\n",
              " ('1328', '520', 6588.490296250439),\n",
              " ('1328', '1243', 6587.826248690744),\n",
              " ('680', '1908', 102.1752142314697),\n",
              " ('1343', '1908', 3.1732955146628985),\n",
              " ('520', '1908', 102.1779372720162),\n",
              " ('1243', '1908', 51.133567362377676),\n",
              " ('1908', '1383', 6584.646478258368),\n",
              " ('1908', '1540', 6583.364635287966),\n",
              " ('1383', '1359', 6590.448106155919),\n",
              " ('1383', '337', 6590.43012881828),\n",
              " ('1540', '344', 6584.34202638325),\n",
              " ('1540', '1359', 6583.87127280092),\n",
              " ('1359', '760', 0.5494926642186192),\n",
              " ('337', '760', 51.14842200182783),\n",
              " ('344', '760', 51.097558974393884),\n",
              " ('1359', '760', 0.5494926642186192),\n",
              " ('760', '1114', 6591.064629608665),\n",
              " ('760', '616', 6590.9565894288435),\n",
              " ('1114', '1144', 6591.622394841294),\n",
              " ('1114', '1686', 6589.967888679064),\n",
              " ('616', '1144', 6592.840319018173),\n",
              " ('616', '1686', 6592.5113297339785),\n",
              " ('1144', '227', 51.10630159226519),\n",
              " ('1686', '227', 0.13963882024281477),\n",
              " ('1144', '227', 51.10630159226519),\n",
              " ('1686', '227', 0.13963882024281477),\n",
              " ('227', '644', 6591.901819301786),\n",
              " ('227', '1396', 6591.152207590495),\n",
              " ('644', '563', 6589.509213788339),\n",
              " ('644', '23', 6589.2505310424585),\n",
              " ('1396', '23', 6591.1519175857175),\n",
              " ('1396', '278', 6590.931596094136),\n",
              " ('563', '1397', 51.120236086297886),\n",
              " ('23', '1397', 3.5135539413727948),\n",
              " ('23', '1397', 3.5135539413727948),\n",
              " ('278', '1397', 51.26881459764992),\n",
              " ('1397', '541', 6586.167015573933),\n",
              " ('1397', '104', 6584.7319331349345),\n",
              " ('541', '594', 6589.799824646775),\n",
              " ('541', '914', 6589.595219199156),\n",
              " ('104', '954', 6584.969183711645),\n",
              " ('104', '914', 6584.1882297354005),\n",
              " ('594', '214', 51.11727108260795),\n",
              " ('914', '214', 1.300737952186249),\n",
              " ('954', '214', 153.20020344643473),\n",
              " ('914', '214', 1.300737952186249),\n",
              " ('214', '381', 6588.775413552947),\n",
              " ('214', '294', 6588.775201869724),\n",
              " ('381', '54', 6591.553874796387),\n",
              " ('381', '1521', 6591.064130501755),\n",
              " ('294', '54', 6591.553663113262),\n",
              " ('294', '1521', 6591.063918765173),\n",
              " ('54', '1606', 153.29234005244356),\n",
              " ('1521', '1606', 0.002611276622148356),\n",
              " ('54', '1606', 153.29234005244356),\n",
              " ('1521', '1606', 0.002611276622148356),\n",
              " ('1606', '45', 6589.852000798121),\n",
              " ('1606', '1083', 6587.144610017619),\n",
              " ('45', '1404', 6588.063914956802),\n",
              " ('45', '1090', 6587.192054826991),\n",
              " ('1083', '1404', 6584.694377678942),\n",
              " ('1083', '856', 6584.275634749338),\n",
              " ('1404', '329', 3.90038588026163),\n",
              " ('1090', '329', 153.27045800271225),\n",
              " ('1404', '329', 3.90038588026163),\n",
              " ('856', '329', 102.13433803256086),\n",
              " ('329', '764', 6582.7209449080965),\n",
              " ('329', '1306', 6582.395979352302),\n",
              " ('764', '1953', 6588.450436697328),\n",
              " ('764', '190', 6587.080657874086),\n",
              " ('1306', '1953', 6590.110933574906),\n",
              " ('1306', '190', 6590.065351118344),\n",
              " ('1953', '1053', 51.106066536726445),\n",
              " ('190', '1053', 51.18328702624934),\n",
              " ('1953', '1053', 51.106066536726445),\n",
              " ('190', '1053', 51.18328702624934),\n",
              " ('1053', '429', 6587.721835945713),\n",
              " ('1053', '873', 6587.188758724106),\n",
              " ('429', '1437', 6591.038391663689),\n",
              " ('429', '1837', 6590.687249762301),\n",
              " ('873', '1437', 6590.505449051719),\n",
              " ('873', '1837', 6590.154531468587),\n",
              " ('1437', '1788', 2.831557279893174),\n",
              " ('1837', '1788', 51.257389737923475),\n",
              " ('1437', '1788', 2.831557279893174),\n",
              " ('1837', '1788', 51.257389737923475)]"
            ]
          },
          "metadata": {
            "tags": []
          },
          "execution_count": 38
        }
      ]
    },
    {
      "cell_type": "code",
      "metadata": {
        "id": "ew7at0yVRvmK",
        "colab_type": "code",
        "colab": {}
      },
      "source": [
        "gr3 = Graph(graph_list)"
      ],
      "execution_count": 0,
      "outputs": []
    },
    {
      "cell_type": "code",
      "metadata": {
        "id": "zKisUEfFMb3W",
        "colab_type": "code",
        "outputId": "f5a13138-39d8-4ca6-ea03-9add9ee6ecb5",
        "colab": {
          "base_uri": "https://localhost:8080/",
          "height": 53
        }
      },
      "source": [
        "print(gr3.dijkstra(\"1791\", \"1788\"))"
      ],
      "execution_count": 41,
      "outputs": [
        {
          "output_type": "stream",
          "text": [
            "deque(['1791', '258', '1696', '1741', '630', '1343', '1908', '1540', '1359', '760', '1114', '1686', '227', '644', '23', '1397', '104', '914', '214', '294', '1521', '1606', '1083', '1404', '329', '764', '190', '1053', '873', '1437', '1788'])\n"
          ],
          "name": "stdout"
        }
      ]
    },
    {
      "cell_type": "code",
      "metadata": {
        "id": "VdcwgHcCQGx_",
        "colab_type": "code",
        "colab": {}
      },
      "source": [
        ""
      ],
      "execution_count": 0,
      "outputs": []
    }
  ]
}