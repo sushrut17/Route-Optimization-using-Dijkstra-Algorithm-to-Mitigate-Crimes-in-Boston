{
 "cells": [
  {
   "cell_type": "code",
   "execution_count": 1,
   "metadata": {},
   "outputs": [],
   "source": [
    "import pandas as pd\n",
    "%matplotlib inline\n",
    "import numpy as np\n",
    "import geopy.distance\n"
   ]
  },
  {
   "cell_type": "code",
   "execution_count": 34,
   "metadata": {},
   "outputs": [
    {
     "name": "stdout",
     "output_type": "stream",
     "text": [
      "<class 'pandas.core.frame.DataFrame'>\n",
      "RangeIndex: 19582 entries, 0 to 19581\n",
      "Data columns (total 2 columns):\n",
      "lat     19582 non-null float64\n",
      "long    19582 non-null float64\n",
      "dtypes: float64(2)\n",
      "memory usage: 306.1 KB\n"
     ]
    }
   ],
   "source": [
    "crime = 'crimes-in-boston/boston_safe_lat&long_filtered.csv'\n",
    "crime = pd.read_csv(crime)\n",
    "df = pd.DataFrame(crime)\n",
    "df = df[['lat','long']]\n",
    "df.info()"
   ]
  },
  {
   "cell_type": "code",
   "execution_count": 37,
   "metadata": {},
   "outputs": [
    {
     "name": "stdout",
     "output_type": "stream",
     "text": [
      "<class 'pandas.core.frame.DataFrame'>\n",
      "RangeIndex: 2728 entries, 0 to 2727\n",
      "Data columns (total 2 columns):\n",
      "lat     2728 non-null float64\n",
      "long    2728 non-null float64\n",
      "dtypes: float64(2)\n",
      "memory usage: 42.8 KB\n"
     ]
    }
   ],
   "source": [
    "df_dt = df[(df.lat <= 42.366623) & (df.lat >=42.353177) | (df.long <= -71.051245) &(df.long >=-71.050987)]\n",
    "df_dt.reset_index(drop=True,inplace=True)\n",
    "df_dt.to_csv('crimes-in-boston/safe_downtown.csv')\n",
    "df_dt.info()"
   ]
  },
  {
   "cell_type": "code",
   "execution_count": 38,
   "metadata": {},
   "outputs": [
    {
     "data": {
      "text/html": [
       "<div>\n",
       "<style scoped>\n",
       "    .dataframe tbody tr th:only-of-type {\n",
       "        vertical-align: middle;\n",
       "    }\n",
       "\n",
       "    .dataframe tbody tr th {\n",
       "        vertical-align: top;\n",
       "    }\n",
       "\n",
       "    .dataframe thead th {\n",
       "        text-align: right;\n",
       "    }\n",
       "</style>\n",
       "<table border=\"1\" class=\"dataframe\">\n",
       "  <thead>\n",
       "    <tr style=\"text-align: right;\">\n",
       "      <th></th>\n",
       "      <th>lat</th>\n",
       "      <th>long</th>\n",
       "    </tr>\n",
       "  </thead>\n",
       "  <tbody>\n",
       "    <tr>\n",
       "      <th>0</th>\n",
       "      <td>42.366584</td>\n",
       "      <td>-71.049143</td>\n",
       "    </tr>\n",
       "    <tr>\n",
       "      <th>1</th>\n",
       "      <td>42.366503</td>\n",
       "      <td>-71.049594</td>\n",
       "    </tr>\n",
       "    <tr>\n",
       "      <th>2</th>\n",
       "      <td>42.366354</td>\n",
       "      <td>-71.049503</td>\n",
       "    </tr>\n",
       "    <tr>\n",
       "      <th>3</th>\n",
       "      <td>42.366348</td>\n",
       "      <td>-71.049080</td>\n",
       "    </tr>\n",
       "    <tr>\n",
       "      <th>4</th>\n",
       "      <td>42.366282</td>\n",
       "      <td>-71.049087</td>\n",
       "    </tr>\n",
       "  </tbody>\n",
       "</table>\n",
       "</div>"
      ],
      "text/plain": [
       "         lat       long\n",
       "0  42.366584 -71.049143\n",
       "1  42.366503 -71.049594\n",
       "2  42.366354 -71.049503\n",
       "3  42.366348 -71.049080\n",
       "4  42.366282 -71.049087"
      ]
     },
     "execution_count": 38,
     "metadata": {},
     "output_type": "execute_result"
    }
   ],
   "source": [
    "df_dt.head()"
   ]
  },
  {
   "cell_type": "code",
   "execution_count": 39,
   "metadata": {},
   "outputs": [
    {
     "data": {
      "text/plain": [
       "-71.11527175100862"
      ]
     },
     "execution_count": 39,
     "metadata": {},
     "output_type": "execute_result"
    }
   ],
   "source": [
    "df_dt['long'][2555]"
   ]
  },
  {
   "cell_type": "code",
   "execution_count": 137,
   "metadata": {},
   "outputs": [],
   "source": [
    "def getneighbors(startlocation):\n",
    "    neighborDF = pd.DataFrame(columns=['ID', 'Distance'])\n",
    "    coords_1 = (df_dt['lat'][startlocation], df_dt['long'][startlocation])\n",
    "    for index, row in df_dt.iterrows():\n",
    "        coords_2 = (df_dt['lat'][index], df_dt['long'][index])\n",
    "        distance = round((geopy.distance.vincenty(coords_1, coords_2)).meters,2)\n",
    "        neighborDF.loc[len(neighborDF)] = [index, distance]\n",
    "    neighborDF = neighborDF.sort_values(by=['Distance'])\n",
    "    neighborDF = neighborDF.reset_index(drop=True)\n",
    "\n",
    "    return neighborDF[1:3]"
   ]
  },
  {
   "cell_type": "code",
   "execution_count": 139,
   "metadata": {},
   "outputs": [
    {
     "name": "stderr",
     "output_type": "stream",
     "text": [
      "/Users/shujiangtan/opt/anaconda3/lib/python3.7/site-packages/ipykernel_launcher.py:6: DeprecationWarning: Vincenty is deprecated and is going to be removed in geopy 2.0. Use `geopy.distance.geodesic` (or the default `geopy.distance.distance`) instead, which is more accurate and always converges.\n",
      "  \n",
      "/Users/shujiangtan/opt/anaconda3/lib/python3.7/site-packages/ipykernel_launcher.py:6: FutureWarning: get_value is deprecated and will be removed in a future release. Please use .at[] or .iat[] accessors instead\n",
      "  \n"
     ]
    }
   ],
   "source": [
    "graph={}\n",
    "for i in range(1,10):\n",
    "    graph[str(i)]={}\n",
    "    s = getneighbors(i)\n",
    "    for j in range(1,3):\n",
    "        graph[str(i)][str(int(s.get_value(j, 'ID')))]=s.get_value(j, 'Distance')\n",
    "\n"
   ]
  },
  {
   "cell_type": "code",
   "execution_count": 140,
   "metadata": {},
   "outputs": [
    {
     "data": {
      "text/plain": [
       "{'1': {'2': 18.19, '0': 38.22},\n",
       " '2': {'1': 18.19, '3': 34.84},\n",
       " '3': {'4': 7.43, '5': 8.83},\n",
       " '4': {'5': 1.84, '6': 4.04},\n",
       " '5': {'4': 1.84, '6': 2.27},\n",
       " '6': {'5': 2.27, '7': 3.27},\n",
       " '7': {'8': 2.36, '6': 3.27},\n",
       " '8': {'7': 2.36, '9': 4.55},\n",
       " '9': {'8': 4.55, '7': 6.71}}"
      ]
     },
     "execution_count": 140,
     "metadata": {},
     "output_type": "execute_result"
    }
   ],
   "source": [
    "graph"
   ]
  },
  {
   "cell_type": "code",
   "execution_count": 130,
   "metadata": {},
   "outputs": [],
   "source": [
    "graph = {'1':{'2':3,'3':4, '4':7},\n",
    "            '2':{'3':1,'6':5},\n",
    "            '3':{'6':6,'4':2},\n",
    "            '4':{'5':3, '7':6},\n",
    "            '5':{'7':3, '8':4},\n",
    "            '6':{'5':1, '8':8},\n",
    "            '7':{'8':2},\n",
    "            '8':{'7':2}\n",
    "        }"
   ]
  },
  {
   "cell_type": "code",
   "execution_count": 135,
   "metadata": {},
   "outputs": [],
   "source": [
    "def dijkstra(graph,start,goal):\n",
    "\n",
    "    shortest_distance = {} \n",
    "    #dictionary to record the cost to reach to node. \n",
    "    #We will constantly update this dictionary as we move along the graph.\n",
    "    track_predecessor = {} \n",
    "    #dictionary to keep track of path that led to that node.\n",
    "    unseenNodes = graph \n",
    "    #to iterate through all nodes\n",
    "    infinity = 10000 \n",
    "    #infinity can be considered a very large number\n",
    "    track_path = [] \n",
    "    #dictionary to record as we trace back our journey\n",
    "\n",
    "\n",
    "# =============================================================================\n",
    "# Initially we want to assign 0 as the cost to reach to source node and infinity as cost to all other nodes\n",
    "# =============================================================================\n",
    "\n",
    "    for node in unseenNodes:\n",
    "        shortest_distance[node] = infinity\n",
    "\n",
    "    shortest_distance[start] = 0\n",
    "\n",
    "# =============================================================================\n",
    "# The loop will keep running until we have entirely exhausted the graph, until we have seen all the nodes\n",
    "# =============================================================================\n",
    "# =============================================================================\n",
    "# To iterate through the graph, we need to determine the min_distance_node every time.\n",
    "# =============================================================================\n",
    "\n",
    "    while unseenNodes:\n",
    "        min_distance_node = None\n",
    "\n",
    "        for node in unseenNodes:\n",
    "            if min_distance_node is None:\n",
    "                min_distance_node = node\n",
    "\n",
    "            elif shortest_distance[node] < shortest_distance[min_distance_node]:\n",
    "                min_distance_node = node\n",
    "\n",
    "# =============================================================================\n",
    "# From the minimum node, what are our possible paths\n",
    "# =============================================================================\n",
    "\n",
    "        path_options = graph[min_distance_node].items()\n",
    "\n",
    "\n",
    "# =============================================================================\n",
    "# We have to calculate the cost each time for each path we take \n",
    "#    and only update it if it is lower than the existing cost\n",
    "# =============================================================================\n",
    "\n",
    "        for child_node, weight in path_options:\n",
    "\n",
    "            if weight + shortest_distance[min_distance_node] < shortest_distance[child_node]:\n",
    "\n",
    "                shortest_distance[child_node] = weight + shortest_distance[min_distance_node]\n",
    "\n",
    "                track_predecessor[child_node] = min_distance_node\n",
    "\n",
    "# =============================================================================\n",
    "# We want to pop out the nodes that we have just visited so that we dont iterate over them again.\n",
    "# =============================================================================\n",
    "        unseenNodes.pop(min_distance_node)\n",
    "\n",
    "\n",
    "\n",
    "# =============================================================================\n",
    "# Once we have reached the destination node, we want trace back our path and calculate the total accumulated cost.\n",
    "# =============================================================================\n",
    "\n",
    "    currentNode = goal\n",
    "\n",
    "    while currentNode != start:\n",
    "\n",
    "        try:\n",
    "            track_path.insert(0,currentNode)\n",
    "            currentNode = track_predecessor[currentNode]\n",
    "        except KeyError:\n",
    "            print('Path not reachable')\n",
    "            break\n",
    "    track_path.insert(0,start)\n",
    "\n",
    "\n",
    "# =============================================================================\n",
    "#  If the cost is infinity, the node had not been reached.\n",
    "# =============================================================================\n",
    "    if shortest_distance[goal] != infinity:\n",
    "        print('Shortest distance is ' + str(shortest_distance[goal]))\n",
    "        print('And the path is ' + str(track_path))\n"
   ]
  },
  {
   "cell_type": "code",
   "execution_count": 136,
   "metadata": {},
   "outputs": [
    {
     "ename": "KeyError",
     "evalue": "'0'",
     "output_type": "error",
     "traceback": [
      "\u001b[0;31m---------------------------------------------------------------------------\u001b[0m",
      "\u001b[0;31mKeyError\u001b[0m                                  Traceback (most recent call last)",
      "\u001b[0;32m<ipython-input-136-e33a9bdac4e4>\u001b[0m in \u001b[0;36m<module>\u001b[0;34m\u001b[0m\n\u001b[0;32m----> 1\u001b[0;31m \u001b[0mdijkstra\u001b[0m\u001b[0;34m(\u001b[0m\u001b[0mgraph\u001b[0m\u001b[0;34m,\u001b[0m \u001b[0;34m'1'\u001b[0m\u001b[0;34m,\u001b[0m \u001b[0;34m'8'\u001b[0m\u001b[0;34m)\u001b[0m\u001b[0;34m\u001b[0m\u001b[0;34m\u001b[0m\u001b[0m\n\u001b[0m",
      "\u001b[0;32m<ipython-input-135-8a7ee1d1149c>\u001b[0m in \u001b[0;36mdijkstra\u001b[0;34m(graph, start, goal)\u001b[0m\n\u001b[1;32m     54\u001b[0m         \u001b[0;32mfor\u001b[0m \u001b[0mchild_node\u001b[0m\u001b[0;34m,\u001b[0m \u001b[0mweight\u001b[0m \u001b[0;32min\u001b[0m \u001b[0mpath_options\u001b[0m\u001b[0;34m:\u001b[0m\u001b[0;34m\u001b[0m\u001b[0;34m\u001b[0m\u001b[0m\n\u001b[1;32m     55\u001b[0m \u001b[0;34m\u001b[0m\u001b[0m\n\u001b[0;32m---> 56\u001b[0;31m             \u001b[0;32mif\u001b[0m \u001b[0mweight\u001b[0m \u001b[0;34m+\u001b[0m \u001b[0mshortest_distance\u001b[0m\u001b[0;34m[\u001b[0m\u001b[0mmin_distance_node\u001b[0m\u001b[0;34m]\u001b[0m \u001b[0;34m<\u001b[0m \u001b[0mshortest_distance\u001b[0m\u001b[0;34m[\u001b[0m\u001b[0mchild_node\u001b[0m\u001b[0;34m]\u001b[0m\u001b[0;34m:\u001b[0m\u001b[0;34m\u001b[0m\u001b[0;34m\u001b[0m\u001b[0m\n\u001b[0m\u001b[1;32m     57\u001b[0m \u001b[0;34m\u001b[0m\u001b[0m\n\u001b[1;32m     58\u001b[0m                 \u001b[0mshortest_distance\u001b[0m\u001b[0;34m[\u001b[0m\u001b[0mchild_node\u001b[0m\u001b[0;34m]\u001b[0m \u001b[0;34m=\u001b[0m \u001b[0mweight\u001b[0m \u001b[0;34m+\u001b[0m \u001b[0mshortest_distance\u001b[0m\u001b[0;34m[\u001b[0m\u001b[0mmin_distance_node\u001b[0m\u001b[0;34m]\u001b[0m\u001b[0;34m\u001b[0m\u001b[0;34m\u001b[0m\u001b[0m\n",
      "\u001b[0;31mKeyError\u001b[0m: '0'"
     ]
    }
   ],
   "source": [
    "dijkstra(graph, '1', '8')"
   ]
  },
  {
   "cell_type": "code",
   "execution_count": null,
   "metadata": {},
   "outputs": [],
   "source": []
  },
  {
   "cell_type": "code",
   "execution_count": null,
   "metadata": {},
   "outputs": [],
   "source": []
  }
 ],
 "metadata": {
  "kernelspec": {
   "display_name": "Python 3",
   "language": "python",
   "name": "python3"
  },
  "language_info": {
   "codemirror_mode": {
    "name": "ipython",
    "version": 3
   },
   "file_extension": ".py",
   "mimetype": "text/x-python",
   "name": "python",
   "nbconvert_exporter": "python",
   "pygments_lexer": "ipython3",
   "version": "3.7.4"
  }
 },
 "nbformat": 4,
 "nbformat_minor": 2
}
