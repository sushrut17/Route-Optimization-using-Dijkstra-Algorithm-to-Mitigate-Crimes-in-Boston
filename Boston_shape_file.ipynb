{
 "cells": [
  {
   "cell_type": "code",
   "execution_count": 3,
   "metadata": {},
   "outputs": [],
   "source": [
    "#!pip install geopandas\n",
    "## if above does not work, try following.\n",
    "#pip install git+git://github.com/geopandas/geopandas.git\n",
    "\n",
    "import geopandas as gpd\n",
    "import pandas as pd\n",
    "import re\n",
    "%matplotlib inline\n",
    "import folium\n",
    "from folium.plugins import MarkerCluster\n",
    "import numpy as np\n"
   ]
  },
  {
   "cell_type": "markdown",
   "metadata": {},
   "source": [
    "# Read Boston shapefile, extracted lat&long and removed duplicates.\n",
    "# Save as bostonshapefile.csv"
   ]
  },
  {
   "cell_type": "code",
   "execution_count": 170,
   "metadata": {},
   "outputs": [],
   "source": [
    "GeoFile = 'crimes-in-boston/Boston_Neighborhoods.shx'\n",
    "boston_geo = gpd.read_file(GeoFile)"
   ]
  },
  {
   "cell_type": "code",
   "execution_count": 13,
   "metadata": {},
   "outputs": [
    {
     "data": {
      "text/plain": [
       "geopandas.geodataframe.GeoDataFrame"
      ]
     },
     "execution_count": 13,
     "metadata": {},
     "output_type": "execute_result"
    }
   ],
   "source": [
    "type(boston_geo)"
   ]
  },
  {
   "cell_type": "code",
   "execution_count": 17,
   "metadata": {},
   "outputs": [
    {
     "name": "stdout",
     "output_type": "stream",
     "text": [
      "<class 'pandas.core.frame.DataFrame'>\n",
      "RangeIndex: 26 entries, 0 to 25\n",
      "Data columns (total 1 columns):\n",
      "geometry    26 non-null geometry\n",
      "dtypes: geometry(1)\n",
      "memory usage: 336.0 bytes\n"
     ]
    }
   ],
   "source": [
    "df1 = pd.DataFrame(boston_geo)\n",
    "df1.info()"
   ]
  },
  {
   "cell_type": "code",
   "execution_count": 18,
   "metadata": {},
   "outputs": [
    {
     "data": {
      "text/plain": [
       "64222"
      ]
     },
     "execution_count": 18,
     "metadata": {},
     "output_type": "execute_result"
    }
   ],
   "source": [
    "location=[]\n",
    "pattern = re.compile(r'\\d{2}\\.\\d+')\n",
    "for i in df1['geometry']:\n",
    "    matches = pattern.findall(str(i))\n",
    "    for i in matches:            \n",
    "        location.append(i)\n",
    "len(location)  "
   ]
  },
  {
   "cell_type": "code",
   "execution_count": 6,
   "metadata": {},
   "outputs": [],
   "source": [
    "#location"
   ]
  },
  {
   "cell_type": "code",
   "execution_count": 19,
   "metadata": {},
   "outputs": [],
   "source": [
    "lat=[]\n",
    "long=[]\n",
    "count = 0\n",
    "for i in location:\n",
    "    if count % 2 == 1:\n",
    "        lat.append(float(i))\n",
    "    else:\n",
    "        long.append(0-float(i))\n",
    "    count += 1"
   ]
  },
  {
   "cell_type": "code",
   "execution_count": 128,
   "metadata": {},
   "outputs": [
    {
     "name": "stdout",
     "output_type": "stream",
     "text": [
      "<class 'pandas.core.frame.DataFrame'>\n",
      "RangeIndex: 32111 entries, 0 to 32110\n",
      "Data columns (total 2 columns):\n",
      "lat     32111 non-null float64\n",
      "long    32111 non-null float64\n",
      "dtypes: float64(2)\n",
      "memory usage: 501.9 KB\n"
     ]
    }
   ],
   "source": [
    "location_df = {'lat':lat,'long':long}\n",
    "df = pd.DataFrame(location_df) \n",
    "df.info()"
   ]
  },
  {
   "cell_type": "code",
   "execution_count": 129,
   "metadata": {},
   "outputs": [
    {
     "data": {
      "text/html": [
       "<div>\n",
       "<style scoped>\n",
       "    .dataframe tbody tr th:only-of-type {\n",
       "        vertical-align: middle;\n",
       "    }\n",
       "\n",
       "    .dataframe tbody tr th {\n",
       "        vertical-align: top;\n",
       "    }\n",
       "\n",
       "    .dataframe thead th {\n",
       "        text-align: right;\n",
       "    }\n",
       "</style>\n",
       "<table border=\"1\" class=\"dataframe\">\n",
       "  <thead>\n",
       "    <tr style=\"text-align: right;\">\n",
       "      <th></th>\n",
       "      <th>lat</th>\n",
       "      <th>long</th>\n",
       "    </tr>\n",
       "  </thead>\n",
       "  <tbody>\n",
       "    <tr>\n",
       "      <td>0</td>\n",
       "      <td>42.272013</td>\n",
       "      <td>-71.125927</td>\n",
       "    </tr>\n",
       "    <tr>\n",
       "      <td>1</td>\n",
       "      <td>42.272347</td>\n",
       "      <td>-71.125748</td>\n",
       "    </tr>\n",
       "    <tr>\n",
       "      <td>2</td>\n",
       "      <td>42.272483</td>\n",
       "      <td>-71.125664</td>\n",
       "    </tr>\n",
       "    <tr>\n",
       "      <td>3</td>\n",
       "      <td>42.272579</td>\n",
       "      <td>-71.125551</td>\n",
       "    </tr>\n",
       "    <tr>\n",
       "      <td>4</td>\n",
       "      <td>42.272491</td>\n",
       "      <td>-71.125729</td>\n",
       "    </tr>\n",
       "  </tbody>\n",
       "</table>\n",
       "</div>"
      ],
      "text/plain": [
       "         lat       long\n",
       "0  42.272013 -71.125927\n",
       "1  42.272347 -71.125748\n",
       "2  42.272483 -71.125664\n",
       "3  42.272579 -71.125551\n",
       "4  42.272491 -71.125729"
      ]
     },
     "execution_count": 129,
     "metadata": {},
     "output_type": "execute_result"
    }
   ],
   "source": [
    "df.head()"
   ]
  },
  {
   "cell_type": "code",
   "execution_count": 130,
   "metadata": {},
   "outputs": [
    {
     "name": "stdout",
     "output_type": "stream",
     "text": [
      "<class 'pandas.core.frame.DataFrame'>\n",
      "Int64Index: 25013 entries, 1883 to 32109\n",
      "Data columns (total 2 columns):\n",
      "lat     25013 non-null float64\n",
      "long    25013 non-null float64\n",
      "dtypes: float64(2)\n",
      "memory usage: 586.2 KB\n"
     ]
    }
   ],
   "source": [
    "#The distict Boston shapefile including all bostion lat&long\n",
    "df.drop_duplicates(keep=False,inplace=True) \n",
    "df.info()\n",
    "#df.to_csv('C:/Users/shuji/Desktop/Python project/BostonCrimeProject/crimes-in-boston/bostonshapefile.csv')"
   ]
  },
  {
   "cell_type": "code",
   "execution_count": 24,
   "metadata": {},
   "outputs": [],
   "source": [
    "## heversive_np calculates the great circle distance between two points.\n",
    "def haversine_np(lon1, lat1, lon2, lat2):\n",
    "    lon1, lat1, lon2, lat2 = map(np.radians, [lon1, lat1, lon2, lat2])\n",
    "    dlon = lon2 - lon1\n",
    "    dlat = lat2 - lat1\n",
    "\n",
    "    a = np.sin(dlat/2.0)**2 + np.cos(lat1) * np.cos(lat2) * np.sin(dlon/2.0)**2\n",
    "\n",
    "    c = 2 * np.arcsin(np.sqrt(a))\n",
    "    miles = 6367 * c/1.609\n",
    "    return miles"
   ]
  },
  {
   "cell_type": "code",
   "execution_count": 25,
   "metadata": {},
   "outputs": [],
   "source": [
    "crime = 'crimes-in-boston/crimes_over_7_unique.csv'\n",
    "crime = pd.read_csv(crime)\n",
    "df2 = pd.DataFrame(crime) \n",
    "longc_list = [i for i in df2['Long']]\n",
    "latc_list = [i for i in df2['Lat']]\n",
    "long_list = [i for i in df['long']]\n",
    "lat_list = [i for i in df['lat']]"
   ]
  },
  {
   "cell_type": "code",
   "execution_count": 26,
   "metadata": {},
   "outputs": [],
   "source": [
    "# extract 'dangerous' location lat&long where distance is less than 0.5 miles.\n",
    "remove_long = []\n",
    "remove_lat = []\n",
    "for i in range(len(longc_list)):\n",
    "    for j in range(len(long_list)):\n",
    "        if haversine_np(longc_list[i],latc_list[i],long_list[j],lat_list[j])<0.5:\n",
    "            remove_long.append(long_list[j])\n",
    "            remove_lat.append(lat_list[j])"
   ]
  },
  {
   "cell_type": "code",
   "execution_count": 131,
   "metadata": {},
   "outputs": [
    {
     "name": "stdout",
     "output_type": "stream",
     "text": [
      "<class 'pandas.core.frame.DataFrame'>\n",
      "RangeIndex: 5431 entries, 0 to 5430\n",
      "Data columns (total 2 columns):\n",
      "lat     5431 non-null float64\n",
      "long    5431 non-null float64\n",
      "dtypes: float64(2)\n",
      "memory usage: 85.0 KB\n"
     ]
    }
   ],
   "source": [
    "##df4 is the distinct 'dangerous' lat&long that should be removed from Boston shapefile.\n",
    "unique_lat = [] \n",
    "unique_long = []\n",
    "[unique_lat.append(x) for x in remove_lat if x not in unique_lat]\n",
    "[unique_long.append(x) for x in remove_long if x not in unique_long]\n",
    "df3 = {'lat':unique_lat,'long':unique_long}\n",
    "df4 = pd.DataFrame(df3) \n",
    "df4.info()\n",
    "#df4.to_csv('C:/Users/shuji/Desktop/Python project/BostonCrimeProject/crimes-in-boston/crime_area_lat&long_from_boston_shapefile.csv')"
   ]
  },
  {
   "cell_type": "code",
   "execution_count": 173,
   "metadata": {},
   "outputs": [
    {
     "data": {
      "text/plain": [
       "(19582, 2)"
      ]
     },
     "execution_count": 173,
     "metadata": {},
     "output_type": "execute_result"
    }
   ],
   "source": [
    "#remove df4 from df, the remaining is the 'safe' lat&long pairs.\n",
    "result = pd.concat([df, df4])\n",
    "result = result.reset_index(drop=True)\n",
    "result.drop_duplicates(subset=None, keep=False, inplace=True)\n",
    "result.shape\n",
    "#result.to_csv('crimes-in-boston/boston_safe_lat&long_filtered.csv')"
   ]
  },
  {
   "cell_type": "code",
   "execution_count": null,
   "metadata": {},
   "outputs": [],
   "source": []
  }
 ],
 "metadata": {
  "kernelspec": {
   "display_name": "Python 3",
   "language": "python",
   "name": "python3"
  },
  "language_info": {
   "codemirror_mode": {
    "name": "ipython",
    "version": 3
   },
   "file_extension": ".py",
   "mimetype": "text/x-python",
   "name": "python",
   "nbconvert_exporter": "python",
   "pygments_lexer": "ipython3",
   "version": "3.7.4"
  }
 },
 "nbformat": 4,
 "nbformat_minor": 2
}
